{
  "nbformat": 4,
  "nbformat_minor": 0,
  "metadata": {
    "colab": {
      "private_outputs": true,
      "provenance": [],
      "authorship_tag": "ABX9TyNFCTpo5SnEz/vNdQwEjdGR",
      "include_colab_link": true
    },
    "kernelspec": {
      "name": "python3",
      "display_name": "Python 3"
    },
    "language_info": {
      "name": "python"
    }
  },
  "cells": [
    {
      "cell_type": "markdown",
      "metadata": {
        "id": "view-in-github",
        "colab_type": "text"
      },
      "source": [
        "<a href=\"https://colab.research.google.com/github/OleKrarup123/PythonTutorials/blob/main/dual_y_axes/dual_y_axes.ipynb\" target=\"_parent\"><img src=\"https://colab.research.google.com/assets/colab-badge.svg\" alt=\"Open In Colab\"/></a>"
      ]
    },
    {
      "cell_type": "markdown",
      "source": [
        "## Import useful libraries"
      ],
      "metadata": {
        "id": "ssdj7eNIU6zC"
      }
    },
    {
      "cell_type": "code",
      "execution_count": null,
      "metadata": {
        "id": "OeGYr94VPZ1U"
      },
      "outputs": [],
      "source": [
        "import pandas as pd\n",
        "import numpy as np\n",
        "import matplotlib.pyplot as plt"
      ]
    },
    {
      "cell_type": "markdown",
      "source": [
        "## Load list of dataframes from webpage"
      ],
      "metadata": {
        "id": "3d97g6dkVAOM"
      }
    },
    {
      "cell_type": "code",
      "source": [
        "# Original data source: https://www.measuringworth.com/datasets/gold/\n",
        "\n",
        "df_list=pd.read_html('https://github.com/OleKrarup123/PythonTutorials/blob/main/dual_y_axes/GOLD_1970-2020.csv')\n",
        "df=df_list[0]    #Get pandas dataframe from first (and only) element in this list    \n",
        "df.head() #Print head"
      ],
      "metadata": {
        "id": "XJ78c3t2P9s8"
      },
      "execution_count": null,
      "outputs": []
    },
    {
      "cell_type": "markdown",
      "source": [
        "## Add new column with price difference"
      ],
      "metadata": {
        "id": "jAoVhWX_VQz9"
      }
    },
    {
      "cell_type": "code",
      "source": [
        "df['Gold price difference (NYC-LONDON) [$/ounce]'] = df['New York Price [$/ounce]'] -  df['London Market Price [$/ounce]']\n",
        "df.head()"
      ],
      "metadata": {
        "id": "lM4DRhYSTBMe"
      },
      "execution_count": null,
      "outputs": []
    },
    {
      "cell_type": "markdown",
      "source": [
        "## Plot data separately"
      ],
      "metadata": {
        "id": "uMuPUzbRVWNx"
      }
    },
    {
      "cell_type": "code",
      "source": [
        "\n",
        "plt.figure()\n",
        "plt.title('Gold price in NYC and London')\n",
        "plt.plot(df['Year'],df['New York Price [$/ounce]'])\n",
        "plt.plot(df['Year'],df['London Market Price [$/ounce]'])\n",
        "plt.xlabel('Year')\n",
        "plt.ylabel('Gold price [$/ounce]')\n",
        "plt.show()\n",
        "\n",
        "plt.figure()\n",
        "plt.title('Gold price difference')\n",
        "plt.plot(df['Year'],df['Gold price difference (NYC-LONDON) [$/ounce]'])\n",
        "plt.xlabel('Year')\n",
        "plt.ylabel('Gold price difference (NYC - LONDON) [$/ounce]')\n",
        "plt.show()\n",
        "\n",
        "plt.figure()\n",
        "plt.title('Gold/Silver price ratio')\n",
        "plt.plot(df['Year'],df['Gold/Silver Price Ratio'])\n",
        "plt.xlabel('Year')\n",
        "plt.ylabel('Gold/Silver Price Ratio')\n",
        "plt.show()\n"
      ],
      "metadata": {
        "id": "h9YkoOZSQV3f"
      },
      "execution_count": null,
      "outputs": []
    },
    {
      "cell_type": "markdown",
      "source": [
        "## Plot price difference and gold/silver ratio together"
      ],
      "metadata": {
        "id": "NeR-6qReVwU5"
      }
    },
    {
      "cell_type": "code",
      "source": [
        "#Initialize plot and graph price difference data\n",
        "fig, ax1 = plt.subplots() \n",
        "ax1.plot(df['Year'], df['Gold price difference (NYC-LONDON) [$/ounce]'], color = 'C0') \n",
        "ax1.set_xlabel('Year') \n",
        "ax1.set_ylabel('Gold price difference (NYC - LONDON) [$/ounce]', color = 'C0') \n",
        "ax1.tick_params(axis ='y', labelcolor = 'C0') \n",
        "\n",
        "ax2=ax1.twinx() #Create new graph that shares the previous x-axis\n",
        "ax2.plot(df['Year'], df['Gold/Silver Price Ratio'], color = 'C1') \n",
        "ax2.set_ylabel('Gold/Silver Price Ratio', color = 'C1') \n",
        "ax2.tick_params(axis ='y', labelcolor = 'C1') \n",
        "\n",
        "ax1.set_title('Gold price difference and Gold/Silver ratio')\n",
        "fig.show()\n",
        "\n"
      ],
      "metadata": {
        "id": "LUXtrol7RNsX"
      },
      "execution_count": null,
      "outputs": []
    },
    {
      "cell_type": "markdown",
      "source": [
        " ..."
      ],
      "metadata": {
        "id": "_ScZPz-ngMA5"
      }
    },
    {
      "cell_type": "markdown",
      "source": [
        "..."
      ],
      "metadata": {
        "id": "tVk2bJCmgMpm"
      }
    },
    {
      "cell_type": "markdown",
      "source": [
        "..."
      ],
      "metadata": {
        "id": "NzvflLEWzmnh"
      }
    },
    {
      "cell_type": "markdown",
      "source": [
        "## Create rolling average of Gold/Silver price ratio"
      ],
      "metadata": {
        "id": "OS11p9Ttz05R"
      }
    },
    {
      "cell_type": "code",
      "source": [
        "df['Gold/Silver Price Ratio 3 year roll-avg'] =df['Gold/Silver Price Ratio'].rolling(3).mean()\n",
        "df['Gold/Silver Price Ratio 6 year roll-avg'] =df['Gold/Silver Price Ratio'].rolling(6).mean()\n",
        "\n",
        "df.head()"
      ],
      "metadata": {
        "id": "HCvM7CpAThP3"
      },
      "execution_count": null,
      "outputs": []
    },
    {
      "cell_type": "code",
      "source": [
        "\n",
        "plt.figure()\n",
        "plt.title('Gold/Silver Ratio')\n",
        "plt.plot(df['Year'],df['Gold/Silver Price Ratio'], color='C1', label ='Raw data')\n",
        "plt.plot(df['Year'],df['Gold/Silver Price Ratio 3 year roll-avg'], color='C2', label ='3yr roll-avg')\n",
        "plt.plot(df['Year'],df['Gold/Silver Price Ratio 6 year roll-avg'], color='C3', label ='6yr roll-avg')\n",
        "plt.xlabel('Year')\n",
        "plt.ylabel('Gold/Silver Ratio')\n",
        "plt.legend(bbox_to_anchor=(1.05, 1.0), loc='upper left')\n",
        "plt.show()"
      ],
      "metadata": {
        "id": "8nQ7WIMgaTA7"
      },
      "execution_count": null,
      "outputs": []
    },
    {
      "cell_type": "markdown",
      "source": [
        "..."
      ],
      "metadata": {
        "id": "kGAziKtNh8NK"
      }
    },
    {
      "cell_type": "markdown",
      "source": [
        "..."
      ],
      "metadata": {
        "id": "zGlIjv1Wh8xE"
      }
    },
    {
      "cell_type": "markdown",
      "source": [
        "..."
      ],
      "metadata": {
        "id": "O8zJnV08h9dt"
      }
    },
    {
      "cell_type": "markdown",
      "source": [
        "## Compute \"forward\" derivative"
      ],
      "metadata": {
        "id": "KAGnmdx1vkNm"
      }
    },
    {
      "cell_type": "code",
      "source": [
        "#Compute \"backwards\" derivative\n",
        "df['NYC Gold price diff [$/ounce/year]'] = df['New York Price [$/ounce]'].diff()/df['Year'].diff()   \n",
        "#dy/dx [0] = NaN\n",
        "#dy/dx [1] = (y[1]-y[0])/(x[1]-x[0])\n",
        "#dy/dx [2] = (y[2]-y[1])/(x[2]-x[1])\n",
        "#...\n",
        "\n",
        "#Shift entries backwards by 1 to get \"forward derivative\"\n",
        "df['NYC Gold price diff [$/ounce/year]']=df['NYC Gold price diff [$/ounce/year]'].shift(periods=-1)\n",
        "#dy/dx [0] = (y[1]-y[0])/(x[1]-x[0])\n",
        "#dy/dx [1] = (y[2]-y[1])/(x[2]-x[1])\n",
        "#dy/dx [2] = (y[3]-y[2])/(x[3]-x[2])\n",
        "#...\n",
        "#dy/dx [end] = NaN\n",
        "\n",
        "\n",
        "df.head()\n"
      ],
      "metadata": {
        "id": "ZpkhCQGpa_xL"
      },
      "execution_count": null,
      "outputs": []
    },
    {
      "cell_type": "code",
      "source": [
        "df.tail()"
      ],
      "metadata": {
        "id": "vOYyJZBite9Q"
      },
      "execution_count": null,
      "outputs": []
    },
    {
      "cell_type": "markdown",
      "source": [
        "## Plot derivative"
      ],
      "metadata": {
        "id": "vsyB2pwKy1EQ"
      }
    },
    {
      "cell_type": "code",
      "source": [
        "plt.figure()\n",
        "plt.title('NYC Gold price')\n",
        "plt.plot(df['Year'],df['New York Price [$/ounce]'], color='C0')\n",
        "plt.xlabel('Year')\n",
        "plt.ylabel('NYC Gold price [$/ounce]')\n",
        "plt.show()\n",
        "\n",
        "plt.figure()\n",
        "plt.title('NYC Gold price change')\n",
        "plt.plot(df['Year'],df['NYC Gold price diff [$/ounce/year]'], color='C4')\n",
        "plt.xlabel('Year')\n",
        "plt.ylabel('NYC Gold price diff [$/ounce/year]')\n",
        "plt.show()"
      ],
      "metadata": {
        "id": "h0WVXpOYiG0d"
      },
      "execution_count": null,
      "outputs": []
    },
    {
      "cell_type": "markdown",
      "source": [
        "## Color gold price chart according to derivative"
      ],
      "metadata": {
        "id": "GuD00o24y2uC"
      }
    },
    {
      "cell_type": "code",
      "source": [
        "# https://matplotlib.org/stable/gallery/lines_bars_and_markers/multicolored_line.html\n",
        "\n",
        "from matplotlib.collections import LineCollection\n",
        "from matplotlib.colors import ListedColormap\n",
        "\n",
        "#Make numpy array of points:\n",
        "#\n",
        "#  points = [[t0, y0] ,  [t1, y1], ... ]  \n",
        "#\n",
        "points = np.array([df['Year'], df['New York Price [$/ounce]']]).T.reshape(-1, 1, 2)\n",
        "\n",
        "#Make numpy array of line segments:\n",
        "#\n",
        "#  segments = [   [[t0, y0], [t1, y1]]    ,    [[t1, y1], [t2, y2]]    , ... ]  \n",
        "#\n",
        "segments = np.concatenate([points[0:-1], points[1:]], axis=1)\n",
        "\n",
        "\n",
        "# Create a continuous norm to map from derivative to line colour\n",
        "norm = plt.Normalize(-200, 200)\n",
        "\n",
        "#Turn segments into a collection of lines with a colour map and a colour normalization function\n",
        "lc = LineCollection(segments, cmap='RdYlGn', norm=norm)\n",
        "\n",
        "# Activate colour normalization function by selecting colour value based on derivative\n",
        "lc.set_array(df['NYC Gold price diff [$/ounce/year]'])\n",
        "\n",
        "#Set linewidth\n",
        "lc.set_linewidth(5)\n",
        "\n",
        "#Plot\n",
        "fig, ax = plt.subplots()\n",
        "line = ax.add_collection(lc)                                     #Add line collection to plot\n",
        "fig.colorbar(line, ax=ax,label='Price change [$/ounce/year]')    #Add colorbar\n",
        "\n",
        "#Specify axes\n",
        "ax.set_xlim(df['Year'].min(), df['Year'].max())                   \n",
        "ax.set_ylim(df['New York Price [$/ounce]'].min(), df['New York Price [$/ounce]'].max())\n",
        "\n",
        "#Specify labels\n",
        "ax.set_xlabel('Year')\n",
        "ax.set_ylabel('New York Price [$/ounce]')\n",
        "plt.show()"
      ],
      "metadata": {
        "id": "vsDtgB-eidaM"
      },
      "execution_count": null,
      "outputs": []
    },
    {
      "cell_type": "code",
      "source": [],
      "metadata": {
        "id": "noPj5k2fN9GH"
      },
      "execution_count": null,
      "outputs": []
    }
  ]
}