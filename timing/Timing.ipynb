{
  "nbformat": 4,
  "nbformat_minor": 0,
  "metadata": {
    "colab": {
      "private_outputs": true,
      "provenance": [],
      "authorship_tag": "ABX9TyMUyBVo346UB++Er9pVeiLE",
      "include_colab_link": true
    },
    "kernelspec": {
      "name": "python3",
      "display_name": "Python 3"
    },
    "language_info": {
      "name": "python"
    }
  },
  "cells": [
    {
      "cell_type": "markdown",
      "metadata": {
        "id": "view-in-github",
        "colab_type": "text"
      },
      "source": [
        "<a href=\"https://colab.research.google.com/github/OleKrarup123/PythonTutorials/blob/main/timing/Timing.ipynb\" target=\"_parent\"><img src=\"https://colab.research.google.com/assets/colab-badge.svg\" alt=\"Open In Colab\"/></a>"
      ]
    },
    {
      "cell_type": "markdown",
      "source": [
        "## Import useful libraries"
      ],
      "metadata": {
        "id": "yJ1M6miG6oMH"
      }
    },
    {
      "cell_type": "code",
      "source": [
        "import time\n",
        "import numpy as np\n",
        "import matplotlib.pyplot as plt\n",
        "\n"
      ],
      "metadata": {
        "id": "hrgsYxklvphm"
      },
      "execution_count": null,
      "outputs": []
    },
    {
      "cell_type": "markdown",
      "source": [
        "## Measure \"clock time\" and \"process time\" of same action"
      ],
      "metadata": {
        "id": "krmW1H446vAb"
      }
    },
    {
      "cell_type": "code",
      "source": [
        "# https://docs.python.org/3/library/time.html\n",
        "\n",
        "N_samples=int(1e3) #Number of samples\n",
        "\n",
        "t_clock_array=np.zeros(N_samples)       #Array for storing \"clock time\"   (Total time elapsed)\n",
        "t_process_array=np.copy(t_clock_array)  #Array for storing \"process time\" (Total time spent by CPU doing calculations)\n",
        "\n",
        "\n",
        "for i in range(N_samples):\n",
        "\n",
        "  #Measure clock time for squaring pi, wait 1ms and store clock time in array\n",
        "  t_clock_start=time.time()\n",
        "  np.pi**2\n",
        "  time.sleep(1e-3) # Wait for 1ms. Will be INCLUDED by time.time()\n",
        "  t_clock_end=time.time()\n",
        "  \n",
        "  t_clock_array[i]=t_clock_end-t_clock_start\n",
        "\n",
        "  #Measure process time for squaring pi, wait 1ms and store process time in array \n",
        "  t_process_start=time.process_time()\n",
        "  np.pi**2\n",
        "  time.sleep(1e-3) # Wait for 1ms. Will be IGNORED by time.process_time()\n",
        "  t_process_end=time.process_time()\n",
        "\n",
        "  t_process_array[i]=t_process_end-t_process_start\n",
        "\n",
        "print(f\"Mean clock time = {np.mean(t_clock_array*1e3)}ms. Mean process time = {np.mean(t_process_array*1e3)}ms \")"
      ],
      "metadata": {
        "id": "rQ0M3Z6T4Zp6"
      },
      "execution_count": null,
      "outputs": []
    },
    {
      "cell_type": "markdown",
      "source": [
        "..."
      ],
      "metadata": {
        "id": "_LDqZbxA7sEH"
      }
    },
    {
      "cell_type": "markdown",
      "source": [
        "..."
      ],
      "metadata": {
        "id": "OJ4jWuGM7ssM"
      }
    },
    {
      "cell_type": "markdown",
      "source": [
        "..."
      ],
      "metadata": {
        "id": "yHV8gSYb7uQw"
      }
    },
    {
      "cell_type": "markdown",
      "source": [
        "..."
      ],
      "metadata": {
        "id": "kEAuOWU67vQ7"
      }
    },
    {
      "cell_type": "markdown",
      "source": [
        "## Measure process time of squaring and exponentiating"
      ],
      "metadata": {
        "id": "q1pcKlpv8Bnz"
      }
    },
    {
      "cell_type": "code",
      "execution_count": null,
      "metadata": {
        "id": "e3jhHqBivKGH"
      },
      "outputs": [],
      "source": [
        "#Number of samples\n",
        "N=int(1e6)\n",
        "\n",
        "#Arrays to store process times\n",
        "squareTimeArray=np.zeros(N)\n",
        "expTimeArray=np.copy(squareTimeArray)\n",
        "\n",
        "\n",
        "\n",
        "for i in range(N):\n",
        "  #Measure squaring time in us\n",
        "  startProcessTime=time.process_time_ns()/1e3\n",
        "  np.pi**2\n",
        "  endProcessTime=time.process_time_ns()/1e3\n",
        "  squareTimeArray[i]=endProcessTime-startProcessTime\n",
        "\n",
        "  #Measure exponentiation time in us\n",
        "  startProcessTime=time.process_time_ns()/1e3\n",
        "  np.exp(np.pi)\n",
        "  endProcessTime=time.process_time_ns()/1e3\n",
        "  expTimeArray[i]=endProcessTime-startProcessTime\n",
        "\n",
        "print(f\"Mean time for squaring pi = {np.mean(squareTimeArray):.3f} +/- {np.std(squareTimeArray):.3f} us.\")\n",
        "print(f\"Mean time for exponentiating pi = {np.mean(expTimeArray):.3f} +/- {np.std(expTimeArray):.3f} us.\")\n",
        "\n"
      ]
    },
    {
      "cell_type": "markdown",
      "source": [
        "## Plot runtime versus run number"
      ],
      "metadata": {
        "id": "7dFcMvDqN4Vp"
      }
    },
    {
      "cell_type": "code",
      "source": [
        "\n",
        "plt.figure()\n",
        "plt.plot(squareTimeArray,label='Square time')\n",
        "plt.plot(expTimeArray,label='Exp time')\n",
        "plt.xlabel('Run number')\n",
        "plt.ylabel('Time [us]')\n",
        "plt.legend(bbox_to_anchor=(1.05, 1.0), loc='upper left')\n",
        "plt.show()\n",
        "\n",
        "plt.figure()\n",
        "plt.plot(squareTimeArray,label='Square time')\n",
        "plt.plot(expTimeArray,label='Exp time')\n",
        "plt.yscale('log')\n",
        "plt.xlabel('Run number')\n",
        "plt.ylabel('Time [us]')\n",
        "plt.legend(bbox_to_anchor=(1.05, 1.0), loc='upper left')\n",
        "plt.show()\n",
        "\n"
      ],
      "metadata": {
        "id": "1HhwxDv4vMwr"
      },
      "execution_count": null,
      "outputs": []
    },
    {
      "cell_type": "markdown",
      "source": [
        "## Make histograms of runtime"
      ],
      "metadata": {
        "id": "XpaVTT0vOETD"
      }
    },
    {
      "cell_type": "code",
      "source": [
        "#100 bins starting from smallest run time until median runtime+100 standard deviations in 100 steps\n",
        "bins=np.linspace(np.min(squareTimeArray),np.median(squareTimeArray)+np.std(squareTimeArray)*100,100)\n",
        "\n",
        "# https://matplotlib.org/stable/api/_as_gen/matplotlib.pyplot.hist.html\n",
        "\n",
        "#Linear scale\n",
        "fig, ax = plt.subplots()\n",
        "plt.title(f\"Runtime histograms with N_samples = {N}\")\n",
        "ax.hist(squareTimeArray,bins,density=True,alpha=0.5,label='Square time')\n",
        "ax.hist(expTimeArray,bins,density=True,alpha=0.5,label='Exp time')\n",
        "plt.xlabel('Time [us]')\n",
        "plt.ylabel('Prob. Dens.')\n",
        "plt.legend(bbox_to_anchor=(1.05, 1.0), loc='upper left')\n",
        "plt.show()\n",
        "\n",
        "#Logarithmic y-scale\n",
        "fig, ax = plt.subplots()\n",
        "plt.title(f\"Runtime histograms with N_samples = {N}\")\n",
        "ax.hist(squareTimeArray,bins,density=True,alpha=0.5,label='Square time')\n",
        "ax.hist(expTimeArray,bins,density=True,alpha=0.5,label='Exp time')\n",
        "plt.xlabel('Time [us]')\n",
        "plt.ylabel('Prob. Dens.')\n",
        "plt.yscale('log')\n",
        "plt.legend(bbox_to_anchor=(1.05, 1.0), loc='upper left')\n",
        "plt.show()\n",
        "\n",
        "#Double-log plot\n",
        "fig, ax = plt.subplots()\n",
        "plt.title(f\"Runtime histograms with N_samples = {N}\")\n",
        "ax.hist(squareTimeArray,bins,density=True,alpha=0.5,label='Square time')\n",
        "ax.hist(expTimeArray,bins,density=True,alpha=0.5,label='Exp time')\n",
        "plt.xlabel('Time [us]')\n",
        "plt.ylabel('Prob. Dens.')\n",
        "plt.yscale('log')\n",
        "plt.xscale('log')\n",
        "plt.legend(bbox_to_anchor=(1.05, 1.0), loc='upper left')\n",
        "plt.show()\n",
        "\n",
        "\n",
        "\n"
      ],
      "metadata": {
        "id": "qD1iHSDG-F4_"
      },
      "execution_count": null,
      "outputs": []
    },
    {
      "cell_type": "markdown",
      "source": [
        "..."
      ],
      "metadata": {
        "id": "Af4nIFAyAtt5"
      }
    },
    {
      "cell_type": "markdown",
      "source": [
        "..."
      ],
      "metadata": {
        "id": "qVtVeSfjAvrp"
      }
    },
    {
      "cell_type": "markdown",
      "source": [
        "..."
      ],
      "metadata": {
        "id": "SskB9dNXAwXZ"
      }
    },
    {
      "cell_type": "markdown",
      "source": [
        "## Get counts and bins "
      ],
      "metadata": {
        "id": "jDtOa6mEOUNw"
      }
    },
    {
      "cell_type": "code",
      "source": [
        "Pdens_square, bins_square = np.histogram(squareTimeArray,bins,density=True)\n",
        "Pdens_exp, bins_exp = np.histogram(expTimeArray,bins,density=True)"
      ],
      "metadata": {
        "id": "HzxBgkWZwefj"
      },
      "execution_count": null,
      "outputs": []
    },
    {
      "cell_type": "markdown",
      "source": [
        "## Plot probability densities"
      ],
      "metadata": {
        "id": "P1m56cT1Qbeu"
      }
    },
    {
      "cell_type": "code",
      "source": [
        "plt.figure()\n",
        "plt.plot(bins_square[0:-1],Pdens_square,'.',label='Square time')\n",
        "plt.plot(bins_exp[0:-1],Pdens_exp,'.',label='EXP time')\n",
        "plt.yscale('log')\n",
        "plt.xscale('log')\n",
        "plt.xlabel('Time [us]')\n",
        "plt.ylabel('Prob. Dens.')\n",
        "plt.legend(bbox_to_anchor=(1.05, 1.0), loc='upper left')\n",
        "plt.show()\n",
        "\n",
        "\n",
        "\n",
        "\n"
      ],
      "metadata": {
        "id": "yR2wnxa1150L"
      },
      "execution_count": null,
      "outputs": []
    },
    {
      "cell_type": "code",
      "source": [
        "threshold = 5e-6\n",
        "\n",
        "#Find indices with probability densities above a certain minimum value\n",
        "idx_square=np.where(Pdens_square>threshold)\n",
        "idx_exp=np.where(Pdens_exp>threshold)\n",
        "\n",
        "#Get bins corresponding to probability densities above minimum value\n",
        "new_square_bins=bins[idx_square]\n",
        "new_exp_bins=bins[idx_exp]\n",
        "\n",
        "#Get probability densities above minimum value\n",
        "Pdens_square_new=Pdens_square[idx_square]\n",
        "Pdens_exp_new=Pdens_exp[idx_exp]\n",
        "\n",
        "\n",
        "\n",
        "#Plot filtered data\n",
        "plt.figure()\n",
        "plt.title(f'Prob. Dens. above {threshold:.3e}')\n",
        "plt.plot(new_square_bins,Pdens_square_new,'.',markersize=15,label='Square time')\n",
        "plt.plot(new_exp_bins,Pdens_exp_new,'.',markersize=15,label='EXP time')\n",
        "plt.yscale('log')\n",
        "plt.xscale('log')\n",
        "plt.xlabel('Time [us]')\n",
        "plt.ylabel('Prob. Dens.')\n",
        "plt.legend(bbox_to_anchor=(1.05, 1.0), loc='upper left')\n",
        "plt.show()"
      ],
      "metadata": {
        "id": "nxVoJ9uRT8SZ"
      },
      "execution_count": null,
      "outputs": []
    },
    {
      "cell_type": "markdown",
      "source": [
        "## Fit model of type $$y=bx^a$$ to data"
      ],
      "metadata": {
        "id": "SovQILigVHDR"
      }
    },
    {
      "cell_type": "code",
      "source": [
        "#Take log10 of bins and pdens to make fit for square data easy\n",
        "x_square=np.log10(new_square_bins)\n",
        "y_square=np.log10(Pdens_square_new)\n",
        "model_square = np.polyfit(x_square, y_square, 1)\n",
        "print(\"Model_Square parameters [a,b]=\",model_square)\n",
        "y_model_square=np.poly1d(model_square)\n",
        "\n",
        "\n",
        "#Take log10 of bins and pdens to make fit for exp data easy\n",
        "x_exp=np.log10(new_exp_bins)\n",
        "y_exp=np.log10(Pdens_exp_new)\n",
        "model_exp = np.polyfit(x_exp, y_exp, 1)\n",
        "print(\"Model_Exp parameters [a,b]=\",model_exp)\n",
        "y_model_exp=np.poly1d(model_exp)\n",
        "\n",
        "#Plot figure\n",
        "plt.figure()\n",
        "plt.plot(x_square,y_model_square(x_square),'b-',label = 'Model_square')\n",
        "plt.plot(x_square,y_square,'C0.',markersize=15,label = 'Square time')\n",
        "\n",
        "plt.plot(x_exp,y_model_exp(x_exp),'r-',label = 'Model_exp')\n",
        "plt.plot(x_exp,y_exp,'C1.',markersize=15,label = 'Exp time')\n",
        "\n",
        "\n",
        "plt.xlabel('log10(Time [us])')\n",
        "plt.ylabel('log10(Pdens)')\n",
        "plt.legend(bbox_to_anchor=(1.05, 1.0), loc='upper left')\n",
        "plt.show()"
      ],
      "metadata": {
        "id": "hr0iErFHBWK1"
      },
      "execution_count": null,
      "outputs": []
    },
    {
      "cell_type": "markdown",
      "source": [
        "What type of probability distribution is this? \\\\\n",
        "... \\\\\n",
        "... \\\\\n",
        "... \\\\\n",
        "... \\\\\n",
        "... \\\\\n",
        "... \\\\\n",
        "... \\\\\n",
        "... \\\\\n",
        "\n"
      ],
      "metadata": {
        "id": "IWHJEucnRtNM"
      }
    },
    {
      "cell_type": "markdown",
      "source": [
        "It's the [Pareto distribution](https://en.wikipedia.org/wiki/Pareto_distribution )!\n",
        "$$ \\text{Pareto}(x,x_{min},\\alpha) = \\frac{\\alpha x_{min}^{\\alpha}}{x^{\\alpha+1}} $$\n",
        "![pareto_low_res.jpg](data:image/jpeg;base64,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)\n",
        "\n",
        "Makes sense! We must have a minimum runtime, $x_{min}$ spent \"setting up\" the calculation."
      ],
      "metadata": {
        "id": "xMUP7zFBRpES"
      }
    },
    {
      "cell_type": "code",
      "source": [
        "# https://en.wikipedia.org/wiki/Pareto_distribution\n",
        "\n",
        "def pareto(x,xmin,alpha):\n",
        "  return alpha*xmin**alpha/(x**(alpha+1))"
      ],
      "metadata": {
        "id": "E6K7xhhWRq0_"
      },
      "execution_count": null,
      "outputs": []
    },
    {
      "cell_type": "code",
      "source": [
        "\n",
        "xmin=np.min(bins_square)\n",
        "\n",
        "plt.figure()\n",
        "plt.title('Prob. Dens. for squaring & Pareto distribution')\n",
        "plt.plot(bins_square[0:-1],Pdens_square,label='Square time')\n",
        "plt.plot(bins_square[0:-1],pareto(bins_square[0:-1],xmin,2.7),'b-',label='Pareto distribution')\n",
        "plt.xlabel('Time [us]')\n",
        "plt.ylabel('Prob. Dens.')\n",
        "plt.show()\n",
        "\n",
        "plt.figure()\n",
        "plt.title('Prob. Dens. for squaring & Pareto distribution')\n",
        "plt.plot(bins_square[0:-1],Pdens_square,label='Square time')\n",
        "plt.plot(bins_square[0:-1],pareto(bins_square[0:-1],xmin,2.7),'b-',label='Pareto distribution')\n",
        "plt.yscale('log')\n",
        "plt.xlabel('Time [us]')\n",
        "plt.ylabel('Prob. Dens.')\n",
        "plt.show()\n",
        "\n",
        "plt.figure()\n",
        "plt.title('Prob. Dens. for squaring & Pareto distribution')\n",
        "plt.plot(bins_square[0:-1],Pdens_square,label='Square time')\n",
        "plt.plot(bins_square[0:-1],pareto(bins_square[0:-1],xmin,2.7),'b-',label='Pareto distribution')\n",
        "plt.yscale('log')\n",
        "plt.xscale('log')\n",
        "plt.xlabel('Time [us]')\n",
        "plt.ylabel('Prob. Dens.')\n",
        "plt.show()"
      ],
      "metadata": {
        "id": "DC0bWDS4HiPM"
      },
      "execution_count": null,
      "outputs": []
    }
  ]
}