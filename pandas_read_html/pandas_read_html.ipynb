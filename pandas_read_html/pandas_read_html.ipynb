{
  "nbformat": 4,
  "nbformat_minor": 0,
  "metadata": {
    "colab": {
      "private_outputs": true,
      "provenance": [],
      "authorship_tag": "ABX9TyOVdMTO2BfoLm3r+q2/QCLZ",
      "include_colab_link": true
    },
    "kernelspec": {
      "name": "python3",
      "display_name": "Python 3"
    },
    "language_info": {
      "name": "python"
    }
  },
  "cells": [
    {
      "cell_type": "markdown",
      "metadata": {
        "id": "view-in-github",
        "colab_type": "text"
      },
      "source": [
        "<a href=\"https://colab.research.google.com/github/OleKrarup123/PythonTutorials/blob/main/pandas_read_html/pandas_read_html.ipynb\" target=\"_parent\"><img src=\"https://colab.research.google.com/assets/colab-badge.svg\" alt=\"Open In Colab\"/></a>"
      ]
    },
    {
      "cell_type": "markdown",
      "source": [
        "## Import libraries"
      ],
      "metadata": {
        "id": "aXhywXXrGTjl"
      }
    },
    {
      "cell_type": "code",
      "source": [
        "import pandas as pd\n",
        "import numpy as np\n",
        "import matplotlib.pyplot as plt"
      ],
      "metadata": {
        "id": "rYz-eoFTGERm"
      },
      "execution_count": null,
      "outputs": []
    },
    {
      "cell_type": "markdown",
      "source": [
        "## Scrape table from website"
      ],
      "metadata": {
        "id": "u1O2qJL7GWAh"
      }
    },
    {
      "cell_type": "code",
      "source": [
        "df_list=pd.read_html('https://www.cdc.gov/growthcharts/html_charts/wtage.htm#males') #Automatically get list of dataframes from tables on website\n",
        "print(type(df_list)) #<-- Type = 'list'\n",
        "print(df_list)       #Print list of dataframes: [ df_males, df_females  ]"
      ],
      "metadata": {
        "id": "vDZclcaTGFlG"
      },
      "execution_count": null,
      "outputs": []
    },
    {
      "cell_type": "markdown",
      "source": [
        "## Extract individual dataframes from list"
      ],
      "metadata": {
        "id": "YEtEILlQKTi6"
      }
    },
    {
      "cell_type": "code",
      "source": [
        "#Get separate dataframe for males\n",
        "df_male=df_list[0]\n",
        "print(df_male.head())\n"
      ],
      "metadata": {
        "id": "01dUuPYZGHle"
      },
      "execution_count": null,
      "outputs": []
    },
    {
      "cell_type": "code",
      "source": [
        "#Get separate dataframe for females\n",
        "df_female=df_list[1]\n",
        "print(df_female.head())"
      ],
      "metadata": {
        "id": "6kuHVASWGpht"
      },
      "execution_count": null,
      "outputs": []
    },
    {
      "cell_type": "markdown",
      "source": [
        "## Plot data"
      ],
      "metadata": {
        "id": "fz5p3jnyKY7n"
      }
    },
    {
      "cell_type": "code",
      "source": [
        "#Plot median mass of males and females\n",
        "\n",
        "plt.figure()\n",
        "plt.plot(df_male['Age (in months)'],df_male['50th Percentile Weight (in kilograms)'],label='Males')\n",
        "plt.plot(df_female['Age (in months)'],df_female['50th Percentile Weight (in kilograms)'],label='Females')\n",
        "plt.xlabel('Age [Months]')\n",
        "plt.ylabel('Mass [kg]')\n",
        "plt.legend(bbox_to_anchor=(1.05, 1.0), loc='upper left')\n",
        "plt.grid()\n",
        "plt.show()\n",
        "\n",
        "plt.figure()\n",
        "plt.plot(df_male['Age (in months)']/12,df_male['50th Percentile Weight (in kilograms)'],label='Males')\n",
        "plt.plot(df_female['Age (in months)']/12,df_female['50th Percentile Weight (in kilograms)'],label='Females')\n",
        "plt.xlabel('Age [Years]')\n",
        "plt.ylabel('Mass [kg]')\n",
        "plt.legend(bbox_to_anchor=(1.05, 1.0), loc='upper left')\n",
        "plt.grid()\n",
        "plt.show()"
      ],
      "metadata": {
        "id": "m9GYVg7lGKdt"
      },
      "execution_count": null,
      "outputs": []
    },
    {
      "cell_type": "markdown",
      "source": [
        "##Plot with dual x-axis"
      ],
      "metadata": {
        "id": "rC-6nJNKKjHV"
      }
    },
    {
      "cell_type": "code",
      "source": [
        "# https://matplotlib.org/stable/gallery/subplots_axes_and_figures/secondary_axis.html\n",
        "\n",
        "fig, ax = plt.subplots(constrained_layout=True)\n",
        "ax.plot(df_male['Age (in months)'], df_male['50th Percentile Weight (in kilograms)'],label='Males')\n",
        "ax.plot(df_female['Age (in months)'], df_female['50th Percentile Weight (in kilograms)'],label='Females')\n",
        "ax.set_xlabel('Age [Months]')\n",
        "ax.set_ylabel('Mass [kg]')\n",
        "ax.set_title('Chart of male and female mass vs. age')\n",
        "\n",
        "#Define tick functions\n",
        "def months2years(months): \n",
        "  return months/12.0\n",
        "\n",
        "def years2months(years):\n",
        "  return years*12.0\n",
        "\n",
        "secax = ax.secondary_xaxis('top', functions=(months2years,years2months))\n",
        "secax.set_xlabel('Age [Years]')\n",
        "ax.legend(bbox_to_anchor=(1.05, 1.0), loc='upper left')\n",
        "plt.grid()\n",
        "plt.show()"
      ],
      "metadata": {
        "id": "lt7tA9XbJjJv"
      },
      "execution_count": null,
      "outputs": []
    }
  ]
}