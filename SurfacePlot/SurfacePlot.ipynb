{
  "nbformat": 4,
  "nbformat_minor": 0,
  "metadata": {
    "colab": {
      "private_outputs": true,
      "provenance": [],
      "authorship_tag": "ABX9TyMBAtTH5uK3akgf8022suRs",
      "include_colab_link": true
    },
    "kernelspec": {
      "name": "python3",
      "display_name": "Python 3"
    },
    "language_info": {
      "name": "python"
    }
  },
  "cells": [
    {
      "cell_type": "markdown",
      "metadata": {
        "id": "view-in-github",
        "colab_type": "text"
      },
      "source": [
        "<a href=\"https://colab.research.google.com/github/OleKrarup123/PythonTutorials/blob/main/SurfacePlot/SurfacePlot.ipynb\" target=\"_parent\"><img src=\"https://colab.research.google.com/assets/colab-badge.svg\" alt=\"Open In Colab\"/></a>"
      ]
    },
    {
      "cell_type": "markdown",
      "source": [
        "## Import useful libraries"
      ],
      "metadata": {
        "id": "b1BWwCMhm-Qq"
      }
    },
    {
      "cell_type": "code",
      "execution_count": null,
      "metadata": {
        "id": "Qs8lZgCLW57L"
      },
      "outputs": [],
      "source": [
        "import numpy as np\n",
        "import pandas as pd\n",
        "import matplotlib.pyplot as plt"
      ]
    },
    {
      "cell_type": "markdown",
      "source": [
        "## Read datafile"
      ],
      "metadata": {
        "id": "Z4M5DDkVnAUt"
      }
    },
    {
      "cell_type": "code",
      "source": [
        "#Original data source: https://www150.statcan.gc.ca/t1/tbl1/en/cv.action?pid=1310011401&request_locale=en\n",
        "\n",
        "df_list=pd.read_html('https://github.com/OleKrarup123/PythonTutorials/blob/main/SurfacePlot/LifeExpectancyCanada.csv')\n",
        "df=df_list[0]\n",
        "df.head()\n"
      ],
      "metadata": {
        "id": "UiwthXqeW-Kw"
      },
      "execution_count": null,
      "outputs": []
    },
    {
      "cell_type": "markdown",
      "source": [
        "## Extract 'Years' as list of strings and list of floats"
      ],
      "metadata": {
        "id": "CT6yLo4EnFfj"
      }
    },
    {
      "cell_type": "code",
      "source": [
        "#Get list of column names\n",
        "columnNames=list(df.keys())\n",
        "print(columnNames)\n",
        "print(' ')\n",
        "\n",
        "#Discard 'Index' and 'Age group' \n",
        "years_as_string=columnNames[2:]\n",
        "print(years_as_string)\n",
        "print(' ')\n",
        "\n",
        "#Convert years as strings to years as float\n",
        "years= np.array([float(x) for x in years_as_string])\n",
        "print(years)\n",
        "\n",
        "\n"
      ],
      "metadata": {
        "id": "d7sTtkw1ZPXN"
      },
      "execution_count": null,
      "outputs": []
    },
    {
      "cell_type": "markdown",
      "source": [
        "## Extract the age groups"
      ],
      "metadata": {
        "id": "Paqdcbd4nO3i"
      }
    },
    {
      "cell_type": "code",
      "source": [
        "ages = np.array(df['Age group'])\n",
        "print(ages)"
      ],
      "metadata": {
        "id": "X1xulHo6cZYb"
      },
      "execution_count": null,
      "outputs": []
    },
    {
      "cell_type": "markdown",
      "source": [
        "## Plot initial and final Life Expectancies"
      ],
      "metadata": {
        "id": "c1rD8odahzJR"
      }
    },
    {
      "cell_type": "code",
      "source": [
        "\n",
        "plt.figure()\n",
        "plt.title(\"Initial and final LE\")\n",
        "plt.plot(ages,df['1981'],label='1981')\n",
        "plt.plot(ages,df['2019'],label='2019')\n",
        "plt.xlabel('Age [years]')\n",
        "plt.ylabel('Life Expectancy [years]')\n",
        "plt.legend(bbox_to_anchor=(1.05, 1.0), loc='upper left')\n",
        "plt.show()  "
      ],
      "metadata": {
        "id": "tixKbkLua4Xj"
      },
      "execution_count": null,
      "outputs": []
    },
    {
      "cell_type": "markdown",
      "source": [
        "## Extract LE matrix"
      ],
      "metadata": {
        "id": "qXcMsbo8j2xP"
      }
    },
    {
      "cell_type": "code",
      "source": [
        "print(years_as_string)\n",
        "print(' ')\n",
        "\n",
        "#Extract LE columns from dataframe\n",
        "LE_dataframe=df[years_as_string]\n",
        "print(LE_dataframe)\n",
        "\n",
        "#Convert dataframe columns into numpy array\n",
        "LE_array=np.array(df[years_as_string])\n",
        "print(' ')\n",
        "print(LE_array)\n",
        "\n",
        "\n"
      ],
      "metadata": {
        "id": "VNeoUU5mdaj3"
      },
      "execution_count": null,
      "outputs": []
    },
    {
      "cell_type": "markdown",
      "source": [
        "## Create 2D colour-surface plot of LE"
      ],
      "metadata": {
        "id": "lLy4-ccpj9lC"
      }
    },
    {
      "cell_type": "code",
      "source": [
        "\n",
        "fig, ax = plt.subplots()\n",
        "ax.set_title('Life Expectancy [1981-2019]')\n",
        "\n",
        "#Create meshgrid of ages and years\n",
        "x = ages\n",
        "y = years\n",
        "X, Y = np.meshgrid(x, y)\n",
        "\n",
        "#Specify Z-data\n",
        "Z=LE_array\n",
        "\n",
        "print(np.shape(X))\n",
        "print(np.shape(Y))\n",
        "print(np.shape(Z))\n",
        "\n",
        "surf=ax.contourf(X, Y, Z.T,levels=20) #Note: Transpose Z-data so its dimensions match X and Y\n",
        "plt.xlabel('Age [years]')\n",
        "plt.ylabel('Year')\n",
        "\n",
        "#Set colorbar and label\n",
        "cbar=fig.colorbar(surf, ax=ax) \n",
        "cbar.set_label('Life Expectancy [Years]')\n",
        "plt.show()\n",
        "\n",
        "\n"
      ],
      "metadata": {
        "id": "rHvALCsfYdIf"
      },
      "execution_count": null,
      "outputs": []
    },
    {
      "cell_type": "markdown",
      "source": [
        "## Create 3D colour-surface plot of LE"
      ],
      "metadata": {
        "id": "bWQHosUVnuEL"
      }
    },
    {
      "cell_type": "code",
      "source": [
        "from matplotlib import cm\n",
        "# Different colormaps: https://matplotlib.org/stable/tutorials/colors/colormaps.html\n",
        "\n",
        "#Plot LE evolution in 3D\n",
        "fig, ax = plt.subplots(1,1, figsize=(10,7),subplot_kw={\"projection\": \"3d\"})\n",
        "plt.title(\"LE Evolution\")\n",
        "\n",
        "x = ages\n",
        "y = years\n",
        "X, Y = np.meshgrid(x, y)\n",
        "Z=LE_array\n",
        "# Plot the surface.\n",
        "\n",
        "\n",
        "surf = ax.plot_surface(X, Y, Z.T, cmap=cm.viridis,linewidth=0, antialiased=False)\n",
        "plt.xlabel('Age [years]')\n",
        "plt.ylabel('Year')\n",
        "\n",
        "# Add a color bar which maps values to colors.\n",
        "cbar=fig.colorbar(surf, shrink=0.5, aspect=5)\n",
        "cbar.set_label('Life Expectancy [Years]')\n",
        "plt.show()"
      ],
      "metadata": {
        "id": "q2fdJPfqfSXl"
      },
      "execution_count": null,
      "outputs": []
    },
    {
      "cell_type": "markdown",
      "source": [
        "...\\\n",
        "...\\\n",
        "...\\\n",
        "...\\\n",
        "...\\\n",
        "...\n"
      ],
      "metadata": {
        "id": "7OGpZVlXoq8i"
      }
    },
    {
      "cell_type": "markdown",
      "source": [
        "## Make GIF of life expectancy"
      ],
      "metadata": {
        "id": "k3qbu6sZsa6S"
      }
    },
    {
      "cell_type": "code",
      "source": [
        "#Import matplotlib animation tools\n",
        "from matplotlib.animation import FuncAnimation, PillowWriter\n",
        "\n",
        "# Source of inspiration: \n",
        "# https://www.c-sharpcorner.com/article/create-animated-gif-using-python-matplotlib/"
      ],
      "metadata": {
        "id": "SEvlFI3Vow5R"
      },
      "execution_count": null,
      "outputs": []
    },
    {
      "cell_type": "code",
      "source": [
        "#Specify years of interest\n",
        "year0='1981'\n",
        "year1='1991'\n",
        "year2='2001'\n",
        "year3='2011'\n",
        "year4='2019'\n",
        "\n",
        "#Initialize plot\n",
        "fig, ax = plt.subplots()  \n",
        "x, y0,y1,y2,y3,y4 = [], [] , [] , [] , [] , [] #Empty lists of ploting values\n",
        "points0, = plt.plot([], [], '.',label = year0) #Empty lists of points\n",
        "points1, = plt.plot([], [], '.',label = year1) \n",
        "points2, = plt.plot([], [], '.',label = year2) \n",
        "points3, = plt.plot([], [], '.',label = year3) \n",
        "points4, = plt.plot([], [], '.',label = year4) \n",
        "\n",
        "\n",
        "#Function for initializing axes\n",
        "def init():  \n",
        "    ax.set_xlim(0, np.max(ages))  \n",
        "    ax.set_ylim(-1, 100)  \n",
        "\n",
        "\n",
        "#Function for updating the points\n",
        "def update(t):  \n",
        "\n",
        "    x.append(t)   \n",
        "    y0.append(df[year0][t])  \n",
        "    y1.append(df[year1][t])  \n",
        "    y2.append(df[year2][t])  \n",
        "    y3.append(df[year3][t])  \n",
        "    y4.append(df[year4][t])  \n",
        "    \n",
        "    points0.set_data(x, y0) #Set new points\n",
        "    points1.set_data(x, y1)\n",
        "    points2.set_data(x, y2)\n",
        "    points3.set_data(x, y3)\n",
        "    points4.set_data(x, y4)\n",
        "      \n",
        "#Axes and legend\n",
        "plt.title('Life Expectancy in Canada')\n",
        "plt.xlabel('Age [years]')\n",
        "plt.ylabel('Life Expectancy [years]')\n",
        "plt.legend()  \n",
        "\n",
        "#Do animation\n",
        "ani = FuncAnimation(fig, update, ages, init_func=init)\n",
        "plt.show()\n",
        "\n",
        "#Save animation as .gif\n",
        "writer = PillowWriter(fps=15)  \n",
        "ani.save(\"Life_Expectancy.gif\", writer=writer)  "
      ],
      "metadata": {
        "id": "m5-xaB5gp-5e"
      },
      "execution_count": null,
      "outputs": []
    },
    {
      "cell_type": "markdown",
      "source": [
        "...\\\n",
        "...\\\n",
        "...\\\n",
        "...\\\n",
        "...\\\n",
        "...\n"
      ],
      "metadata": {
        "id": "5B3mS5S0u-Rz"
      }
    },
    {
      "cell_type": "code",
      "source": [],
      "metadata": {
        "id": "vOXR5rilvAet"
      },
      "execution_count": null,
      "outputs": []
    }
  ]
}