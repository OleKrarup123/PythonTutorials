{
  "nbformat": 4,
  "nbformat_minor": 0,
  "metadata": {
    "colab": {
      "private_outputs": true,
      "provenance": [],
      "authorship_tag": "ABX9TyNJV8/ejclfo7qU9gy42nom",
      "include_colab_link": true
    },
    "kernelspec": {
      "name": "python3",
      "display_name": "Python 3"
    },
    "language_info": {
      "name": "python"
    }
  },
  "cells": [
    {
      "cell_type": "markdown",
      "metadata": {
        "id": "view-in-github",
        "colab_type": "text"
      },
      "source": [
        "<a href=\"https://colab.research.google.com/github/OleKrarup123/PythonTutorials/blob/main/sqrtApprox/sqrtApprox.ipynb\" target=\"_parent\"><img src=\"https://colab.research.google.com/assets/colab-badge.svg\" alt=\"Open In Colab\"/></a>"
      ]
    },
    {
      "cell_type": "markdown",
      "source": [
        "## Approximating square roots in your head"
      ],
      "metadata": {
        "id": "ivsRpLT-YwQo"
      }
    },
    {
      "cell_type": "code",
      "execution_count": null,
      "metadata": {
        "id": "6z40w-KQPqjT"
      },
      "outputs": [],
      "source": [
        "import numpy as np\n",
        "import matplotlib.pyplot as plt"
      ]
    },
    {
      "cell_type": "markdown",
      "source": [
        "## Write number as nearest square plus remainder:"
      ],
      "metadata": {
        "id": "SybK-3BfY_Zj"
      }
    },
    {
      "cell_type": "markdown",
      "source": [
        "$\\sqrt{39}=\\sqrt{36+3}=6\\sqrt{1+\\frac{3}{36}}=6\\left(1+\\frac{3}{36}\\right)^{1/2}$"
      ],
      "metadata": {
        "id": "3aq7VsE1Pyw7"
      }
    },
    {
      "cell_type": "markdown",
      "source": [
        "Apply [Taylor approximation](https://en.wikipedia.org/wiki/Taylor's_theorem): $(1+r)^a \\approx 1+ar$ for $r\\ll 1$:"
      ],
      "metadata": {
        "id": "cTrcRLdFZOdU"
      }
    },
    {
      "cell_type": "markdown",
      "source": [
        "$\\approx 6\\left(1+\\frac{1}{2}\\frac{3}{36}\\right)=6+\\frac{1}{2}\\frac{3}{6}= 6.25$\n",
        "\n",
        "\n"
      ],
      "metadata": {
        "id": "8dTnnCwcZKxn"
      }
    },
    {
      "cell_type": "markdown",
      "source": [
        "##C\\ Check result"
      ],
      "metadata": {
        "id": "z80EWnxNZW8L"
      }
    },
    {
      "cell_type": "markdown",
      "source": [
        "$\\sqrt{39}=6.244998\\approx 6.25$"
      ],
      "metadata": {
        "id": "iM8Tau4lZV7R"
      }
    },
    {
      "cell_type": "markdown",
      "source": [
        "## In general:"
      ],
      "metadata": {
        "id": "LOeINJgdZZjp"
      }
    },
    {
      "cell_type": "markdown",
      "source": [
        "$\\sqrt{x}\\approx \\sqrt{\\text{nearest square}}+ \\frac{x-\\text{nearest square}}{2\\sqrt{\\text{nearest square}}}=\\frac{1}{2}\\left(\\text{nearest root} + \\frac{x}{\\text{nearest root}}\\right)$"
      ],
      "metadata": {
        "id": "ohMi8hhPRsb0"
      }
    },
    {
      "cell_type": "markdown",
      "source": [
        "##Implement functions in python"
      ],
      "metadata": {
        "id": "Pyo4xVYRZgcy"
      }
    },
    {
      "cell_type": "code",
      "source": [
        "#https://stackoverflow.com/questions/49875299/find-nearest-square-number-of-a-given-number\n",
        "\n",
        "def nearestSquare(x):\n",
        "     return np.round(np.sqrt(x))**2\n",
        "    \n",
        "def sqrtApprox(x):\n",
        "    nearest_root=np.sqrt(nearestSquare(x))\n",
        "    return (nearest_root+ x/nearest_root)/2"
      ],
      "metadata": {
        "id": "4feIwF3iPuYI"
      },
      "execution_count": null,
      "outputs": []
    },
    {
      "cell_type": "markdown",
      "source": [
        "## Plot result and error"
      ],
      "metadata": {
        "id": "ornzBlLJZi6X"
      }
    },
    {
      "cell_type": "code",
      "source": [
        "\n",
        "x=np.linspace(1,1000,1000)\n",
        "\n",
        "\n",
        "plt.figure()\n",
        "plt.plot(x,sqrtApprox(x),label='approx')\n",
        "plt.plot(x,np.sqrt(x),label='$\\sqrt{x}$')\n",
        "plt.legend()\n",
        "plt.show()\n",
        "\n",
        "plt.figure()\n",
        "plt.plot(x,sqrtApprox(x)-np.sqrt(x),label='Absolute error')\n",
        "plt.plot(x,1/np.sqrt(x)*0.125,label='$0.125/\\sqrt{x}\\quad ??? $')\n",
        "plt.yscale('log')\n",
        "plt.xscale('log')\n",
        "plt.legend()\n",
        "plt.ylabel('Absolute error')\n",
        "plt.show()\n",
        "    \n",
        "    \n",
        "plt.figure()\n",
        "plt.plot(x,(sqrtApprox(x)-np.sqrt(x))/x,label='Relative error')\n",
        "plt.plot(x,1/(np.sqrt(x))**3*0.125,label='$0.125\\cdot x^{-3/2} \\quad??? $')\n",
        "plt.yscale('log')\n",
        "plt.xscale('log')\n",
        "plt.ylabel('Relative error')\n",
        "plt.legend()\n",
        "plt.show()"
      ],
      "metadata": {
        "id": "xLE4R5ZYQ-bm"
      },
      "execution_count": null,
      "outputs": []
    },
    {
      "cell_type": "code",
      "source": [],
      "metadata": {
        "id": "GnyiVA6YaA8Z"
      },
      "execution_count": null,
      "outputs": []
    }
  ]
}